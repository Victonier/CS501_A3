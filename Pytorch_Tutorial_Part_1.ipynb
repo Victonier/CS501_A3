{
  "cells": [
    {
      "cell_type": "markdown",
      "metadata": {
        "id": "view-in-github",
        "colab_type": "text"
      },
      "source": [
        "<a href=\"https://colab.research.google.com/github/Victonier/CS501_A3/blob/main/Pytorch_Tutorial_Part_1.ipynb\" target=\"_parent\"><img src=\"https://colab.research.google.com/assets/colab-badge.svg\" alt=\"Open In Colab\"/></a>"
      ]
    },
    {
      "cell_type": "code",
      "execution_count": 1,
      "metadata": {
        "id": "QwkkRFT6cGtn"
      },
      "outputs": [],
      "source": [
        "from __future__ import print_function\n",
        "import torch\n",
        "%matplotlib inline"
      ]
    },
    {
      "cell_type": "markdown",
      "metadata": {
        "id": "wVn6zPFDcGtw"
      },
      "source": [
        "\n",
        "What is PyTorch?\n",
        "================\n",
        "\n",
        "It’s a Python-based scientific computing package targeted at two sets of\n",
        "audiences:\n",
        "\n",
        "-  A replacement for NumPy to use the power of GPUs\n",
        "-  a deep learning research platform that provides maximum flexibility\n",
        "   and speed\n",
        "\n"
      ]
    },
    {
      "cell_type": "markdown",
      "metadata": {
        "id": "1sXAX-BfB4Gk"
      },
      "source": [
        "Section 1: Tensors\n",
        "================\n",
        "Please refer: https://pytorch.org/docs/stable/tensors.html\n",
        "\n",
        "A torch.Tensor is a multi-dimensional matrix containing elements of a single data type.\n",
        "\n",
        "Tensors are similar to NumPy’s ndarrays, with the addition being that\n",
        "Tensors can also be used on a GPU to accelerate computing."
      ]
    },
    {
      "cell_type": "markdown",
      "metadata": {
        "id": "HZkGk7StcGt1"
      },
      "source": [
        "<b>Task 1: Constructing Tensors</b>\n",
        "\n",
        "a) Construct a 5x3 matrix, uninitialized:\n",
        "\n"
      ]
    },
    {
      "cell_type": "code",
      "execution_count": 2,
      "metadata": {
        "colab": {
          "base_uri": "https://localhost:8080/"
        },
        "id": "fES0DhcrcGt3",
        "outputId": "df6cbdd4-fd55-43fb-c131-6f1544858e11"
      },
      "outputs": [
        {
          "output_type": "stream",
          "name": "stdout",
          "text": [
            "tensor([[2.1715e-18, 3.3089e-09, 2.0663e+20],\n",
            "        [1.6411e-07, 5.3179e+22, 7.9874e+20],\n",
            "        [1.0528e-11, 4.2656e-08, 6.7127e-07],\n",
            "        [8.2293e-10, 2.1707e-18, 4.5447e+30],\n",
            "        [7.0062e+22, 2.1715e-18, 4.5447e+30]])\n"
          ]
        }
      ],
      "source": [
        "# The shape of the tensor is defined by the variable argument size\n",
        "# Tensor is initialized with garbage values\n",
        "x = torch.empty(5, 3)\n",
        "print(x)"
      ]
    },
    {
      "cell_type": "markdown",
      "metadata": {
        "id": "_LOf4Uj1cGt-"
      },
      "source": [
        "b) Construct a randomly initialized matrix:\n",
        "\n"
      ]
    },
    {
      "cell_type": "code",
      "execution_count": 3,
      "metadata": {
        "colab": {
          "base_uri": "https://localhost:8080/"
        },
        "id": "Zl-c3-m7cGuA",
        "outputId": "ebf65fb7-41c0-49bd-a2f3-4d020fe17048"
      },
      "outputs": [
        {
          "output_type": "stream",
          "name": "stdout",
          "text": [
            "tensor([[0.2535, 0.2184, 0.3719],\n",
            "        [0.0329, 0.8561, 0.2089],\n",
            "        [0.1904, 0.2212, 0.6449],\n",
            "        [0.9734, 0.2642, 0.3716],\n",
            "        [0.7144, 0.9342, 0.1218]])\n",
            "torch.Size([5, 3])\n"
          ]
        }
      ],
      "source": [
        "x = torch.rand(5, 3)\n",
        "print(x)\n",
        "print(x.size())"
      ]
    },
    {
      "cell_type": "markdown",
      "metadata": {
        "id": "vcIW_M5FcGuE"
      },
      "source": [
        "c) Construct a matrix filled zeros and of dtype long:\n",
        "\n"
      ]
    },
    {
      "cell_type": "code",
      "execution_count": 4,
      "metadata": {
        "colab": {
          "base_uri": "https://localhost:8080/"
        },
        "id": "tOKOfnL3cGuF",
        "outputId": "693c84d1-3de7-48fb-9a6e-c5b9ddf30d02"
      },
      "outputs": [
        {
          "output_type": "stream",
          "name": "stdout",
          "text": [
            "tensor([[0, 0, 0],\n",
            "        [0, 0, 0],\n",
            "        [0, 0, 0],\n",
            "        [0, 0, 0],\n",
            "        [0, 0, 0]])\n"
          ]
        }
      ],
      "source": [
        "x = torch.zeros(5, 3, dtype=torch.long)\n",
        "print(x)"
      ]
    },
    {
      "cell_type": "markdown",
      "metadata": {
        "id": "E9QNEJuscGuL"
      },
      "source": [
        "d) Construct a tensor directly from data:\n",
        "\n"
      ]
    },
    {
      "cell_type": "code",
      "execution_count": 5,
      "metadata": {
        "colab": {
          "base_uri": "https://localhost:8080/"
        },
        "id": "3azFb_E1cGuO",
        "outputId": "2636ae41-0607-4c88-9d61-267b1ef908c8"
      },
      "outputs": [
        {
          "output_type": "stream",
          "name": "stdout",
          "text": [
            "tensor([5.5000, 3.0000])\n"
          ]
        }
      ],
      "source": [
        "x = torch.tensor([5.5, 3])\n",
        "print(x)"
      ]
    },
    {
      "cell_type": "markdown",
      "metadata": {
        "id": "QsA8p-9rcGuU"
      },
      "source": [
        "e) Create a tensor based on an existing tensor. \n",
        "\n",
        "Note: These methods will reuse properties of the input tensor, e.g. dtype, unless new values are provided by user\n",
        "\n"
      ]
    },
    {
      "cell_type": "code",
      "execution_count": 6,
      "metadata": {
        "colab": {
          "base_uri": "https://localhost:8080/"
        },
        "id": "OqaeMZqwcGuV",
        "outputId": "28845a77-8bf4-44ce-9829-a99886c76f84"
      },
      "outputs": [
        {
          "output_type": "stream",
          "name": "stdout",
          "text": [
            "tensor([[1., 1., 1.],\n",
            "        [1., 1., 1.],\n",
            "        [1., 1., 1.],\n",
            "        [1., 1., 1.],\n",
            "        [1., 1., 1.]], dtype=torch.float64)\n",
            "tensor([[-0.2237, -1.3459, -0.0398],\n",
            "        [-0.9023, -0.7328,  1.1682],\n",
            "        [-1.3230,  0.9583, -0.8185],\n",
            "        [ 1.5355, -0.2616, -0.7398],\n",
            "        [ 0.8211, -0.3771,  0.5974]])\n"
          ]
        }
      ],
      "source": [
        "x = x.new_ones(5, 3, dtype=torch.double)      # new_* methods take in sizes\n",
        "print(x)\n",
        "\n",
        "# Generates random values from Normal distribution\n",
        "# Uses the shape of the given tensor\n",
        "x = torch.randn_like(x, dtype=torch.float)    # override dtype!\n",
        "print(x)                                      # result has the same size"
      ]
    },
    {
      "cell_type": "markdown",
      "metadata": {
        "id": "v-PXCNe-cGuZ"
      },
      "source": [
        "<b>Task 2: Get the size of the tensor </b>\n",
        "\n",
        "Note: torch.Size is in fact a tuple, so it supports all tuple operations.\n",
        "\n"
      ]
    },
    {
      "cell_type": "code",
      "execution_count": 7,
      "metadata": {
        "colab": {
          "base_uri": "https://localhost:8080/"
        },
        "id": "8H2jW6emcGue",
        "outputId": "bd9f2a93-6a13-4510-a81e-61e771bf8d98"
      },
      "outputs": [
        {
          "output_type": "stream",
          "name": "stdout",
          "text": [
            "torch.Size([5, 3])\n"
          ]
        }
      ],
      "source": [
        "print(x.size())\n",
        "# print(x.size())"
      ]
    },
    {
      "cell_type": "markdown",
      "metadata": {
        "id": "bbyRg4rscGuj"
      },
      "source": [
        "<b>Task 3: Operations</b>\n",
        "\n",
        "a) Addition: syntax 1\n",
        "\n"
      ]
    },
    {
      "cell_type": "code",
      "execution_count": 8,
      "metadata": {
        "colab": {
          "base_uri": "https://localhost:8080/"
        },
        "id": "Rse0X18fcGuk",
        "outputId": "77654555-b462-49a7-aecb-db599b10ef70"
      },
      "outputs": [
        {
          "output_type": "stream",
          "name": "stdout",
          "text": [
            "tensor([[1.6648, 0.8435, 0.8919],\n",
            "        [1.0647, 0.7403, 1.4900],\n",
            "        [0.9053, 0.5168, 1.2172],\n",
            "        [0.6932, 0.4858, 1.0209],\n",
            "        [1.1949, 1.0344, 0.9690]])\n"
          ]
        }
      ],
      "source": [
        "p = torch.rand(5, 3)\n",
        "q = torch.rand(5, 3)\n",
        "print(p + q)"
      ]
    },
    {
      "cell_type": "markdown",
      "metadata": {
        "id": "mhl-HA6acGuo"
      },
      "source": [
        "b) Addition: syntax 2\n",
        "\n"
      ]
    },
    {
      "cell_type": "code",
      "execution_count": 9,
      "metadata": {
        "colab": {
          "base_uri": "https://localhost:8080/"
        },
        "id": "udaT7GJwcGup",
        "outputId": "d4fbf3e2-f950-402d-9363-8a1ee2a4efa5"
      },
      "outputs": [
        {
          "output_type": "stream",
          "name": "stdout",
          "text": [
            "tensor([[1.6648, 0.8435, 0.8919],\n",
            "        [1.0647, 0.7403, 1.4900],\n",
            "        [0.9053, 0.5168, 1.2172],\n",
            "        [0.6932, 0.4858, 1.0209],\n",
            "        [1.1949, 1.0344, 0.9690]])\n"
          ]
        }
      ],
      "source": [
        "print(torch.add(p, q))"
      ]
    },
    {
      "cell_type": "markdown",
      "metadata": {
        "id": "_S3AUMpVcGuw"
      },
      "source": [
        "c) Addition: providing an output tensor as argument\n",
        "\n"
      ]
    },
    {
      "cell_type": "code",
      "execution_count": 10,
      "metadata": {
        "colab": {
          "base_uri": "https://localhost:8080/"
        },
        "id": "lKtlQXY4cGuy",
        "outputId": "44c43444-a79c-4444-db2c-6714d1541731"
      },
      "outputs": [
        {
          "output_type": "stream",
          "name": "stdout",
          "text": [
            "tensor([[1.6648, 0.8435, 0.8919],\n",
            "        [1.0647, 0.7403, 1.4900],\n",
            "        [0.9053, 0.5168, 1.2172],\n",
            "        [0.6932, 0.4858, 1.0209],\n",
            "        [1.1949, 1.0344, 0.9690]])\n"
          ]
        }
      ],
      "source": [
        "result = torch.empty(5, 3)\n",
        "torch.add(p, q, out=result)\n",
        "print(result)"
      ]
    },
    {
      "cell_type": "markdown",
      "metadata": {
        "id": "c1OBWtGccGu2"
      },
      "source": [
        "d) Addition: in-place\n",
        "\n"
      ]
    },
    {
      "cell_type": "code",
      "execution_count": 11,
      "metadata": {
        "colab": {
          "base_uri": "https://localhost:8080/"
        },
        "id": "NfSJ-O4FcGu3",
        "outputId": "33e49a87-e374-49d6-9b45-7914b0ce5a3f"
      },
      "outputs": [
        {
          "output_type": "stream",
          "name": "stdout",
          "text": [
            "tensor([[1.6648, 0.8435, 0.8919],\n",
            "        [1.0647, 0.7403, 1.4900],\n",
            "        [0.9053, 0.5168, 1.2172],\n",
            "        [0.6932, 0.4858, 1.0209],\n",
            "        [1.1949, 1.0344, 0.9690]])\n"
          ]
        }
      ],
      "source": [
        "# adds x to y\n",
        "q.add_(p)\n",
        "print(q)"
      ]
    },
    {
      "cell_type": "markdown",
      "metadata": {
        "id": "3Ko8XWBNcGvC"
      },
      "source": [
        "Note: Any operation that mutates a tensor in-place is post-fixed with an ``_``.\n",
        "    For example: ``x.copy_(y)``, ``x.t_()``, will change ``x``.</p></div>\n",
        "\n",
        "<b>Task 4: Misc Operations </b>\n",
        "\n",
        "a) Indexing\n",
        "\n"
      ]
    },
    {
      "cell_type": "code",
      "execution_count": null,
      "metadata": {
        "colab": {
          "base_uri": "https://localhost:8080/"
        },
        "id": "y-pEad6VcGvD",
        "outputId": "84f5962c-b472-41f4-8e96-a86d3756c4f1"
      },
      "outputs": [
        {
          "output_type": "stream",
          "name": "stdout",
          "text": [
            "tensor([[1.3518, 0.7396, 1.7066],\n",
            "        [0.5235, 1.6642, 0.3787],\n",
            "        [1.3237, 1.0827, 0.5181],\n",
            "        [0.9051, 1.0894, 1.7650],\n",
            "        [1.3346, 1.0409, 0.3504]])\n",
            "tensor([0.7396, 1.6642, 1.0827, 1.0894, 1.0409])\n"
          ]
        }
      ],
      "source": [
        "print(result)\n",
        "print(result[:, 1])"
      ]
    },
    {
      "cell_type": "markdown",
      "metadata": {
        "id": "6LxXbp64cGvG"
      },
      "source": [
        "b) Resizing\n",
        "\n"
      ]
    },
    {
      "cell_type": "code",
      "execution_count": null,
      "metadata": {
        "colab": {
          "base_uri": "https://localhost:8080/"
        },
        "id": "f4viiwnWcGvH",
        "outputId": "a0fd33c4-8d05-415a-c560-68add86520ad"
      },
      "outputs": [
        {
          "output_type": "stream",
          "name": "stdout",
          "text": [
            "torch.Size([4, 4]) torch.Size([16]) torch.Size([2, 8])\n"
          ]
        }
      ],
      "source": [
        "x = torch.randn(4, 4)\n",
        "y = x.view(16)\n",
        "z = x.view(-1, 8)  # the size -1 is inferred from other dimensions\n",
        "print(x.size(), y.size(), z.size())"
      ]
    },
    {
      "cell_type": "markdown",
      "metadata": {
        "id": "rwtFXhUOWNNR"
      },
      "source": [
        "c) Permute\n",
        "\n",
        "Used for image data where order of data is important"
      ]
    },
    {
      "cell_type": "code",
      "execution_count": null,
      "metadata": {
        "id": "i9SIOX3JWNNR",
        "outputId": "2109b122-b0b2-40dd-a271-22bd2c52d060",
        "colab": {
          "base_uri": "https://localhost:8080/"
        }
      },
      "outputs": [
        {
          "output_type": "stream",
          "name": "stdout",
          "text": [
            "torch.Size([3, 224, 224]) torch.Size([224, 224, 3])\n"
          ]
        }
      ],
      "source": [
        "x = torch.randn(3,224,224)\n",
        "y = x.permute(1,2,0)\n",
        "print(x.size(), y.size())"
      ]
    },
    {
      "cell_type": "markdown",
      "metadata": {
        "id": "kMc8ggNLcGvJ"
      },
      "source": [
        "d) Accessing \n",
        "\n"
      ]
    },
    {
      "cell_type": "code",
      "execution_count": null,
      "metadata": {
        "colab": {
          "base_uri": "https://localhost:8080/"
        },
        "id": "e-7ghdv4cGvK",
        "outputId": "cf9ca21e-362a-4a52-a7c6-227010c9702e"
      },
      "outputs": [
        {
          "output_type": "stream",
          "name": "stdout",
          "text": [
            "tensor([-2.3965])\n",
            "-2.3964662551879883\n",
            "tensor([[ 0.9251,  0.7056],\n",
            "        [ 0.1914, -0.2224]])\n",
            "[[0.9250897765159607, 0.7056499719619751], [0.19139954447746277, -0.2224278450012207]]\n"
          ]
        }
      ],
      "source": [
        "x = torch.randn(1) # std norm dist vs rand: uniform [0,1)\n",
        "print(x)\n",
        "print(x.item()) # works for tensors with single value\n",
        "\n",
        "x = torch.randn(2, 2)\n",
        "print(x)\n",
        "print(x.tolist()) # works for tensors with multiple values"
      ]
    },
    {
      "cell_type": "markdown",
      "metadata": {
        "id": "O8ybKJCJcGvO"
      },
      "source": [
        "Section 2: NumPy \n",
        "------------\n",
        "\n",
        "Converting a Torch Tensor to a NumPy array and vice versa is a breeze.\n",
        "\n",
        "The Torch Tensor and NumPy array will share their underlying memory\n",
        "locations, and changing one will change the other.\n",
        "\n",
        "a) Converting a Torch Tensor to a NumPy Array\n",
        "\n",
        "\n"
      ]
    },
    {
      "cell_type": "code",
      "execution_count": null,
      "metadata": {
        "colab": {
          "base_uri": "https://localhost:8080/"
        },
        "id": "SDgj7KHocGvP",
        "outputId": "995aefeb-2065-485e-dc75-b3cb62d6fa72"
      },
      "outputs": [
        {
          "output_type": "stream",
          "name": "stdout",
          "text": [
            "tensor([1., 1., 1., 1., 1.])\n"
          ]
        }
      ],
      "source": [
        "a = torch.ones(5)\n",
        "print(a)"
      ]
    },
    {
      "cell_type": "code",
      "execution_count": null,
      "metadata": {
        "colab": {
          "base_uri": "https://localhost:8080/"
        },
        "id": "pDy1GGxKcGvV",
        "outputId": "f51ed6a9-bf8c-4cf6-e3da-4f6ea6f35623"
      },
      "outputs": [
        {
          "output_type": "execute_result",
          "data": {
            "text/plain": [
              "array([1., 1., 1., 1., 1.], dtype=float32)"
            ]
          },
          "metadata": {},
          "execution_count": 17
        }
      ],
      "source": [
        "b = a.numpy()\n",
        "b"
      ]
    },
    {
      "cell_type": "markdown",
      "metadata": {
        "id": "4wAygthwcGvY"
      },
      "source": [
        "Note: See how the numpy array changed in value.\n",
        "\n"
      ]
    },
    {
      "cell_type": "code",
      "execution_count": null,
      "metadata": {
        "colab": {
          "base_uri": "https://localhost:8080/"
        },
        "id": "_Th_wa09cGvZ",
        "outputId": "74445957-0996-4ee5-8fcf-a027b3d5df42"
      },
      "outputs": [
        {
          "output_type": "stream",
          "name": "stdout",
          "text": [
            "tensor([2., 2., 2., 2., 2.])\n",
            "[2. 2. 2. 2. 2.]\n"
          ]
        }
      ],
      "source": [
        "a.add_(1)\n",
        "print(a)\n",
        "print(b)"
      ]
    },
    {
      "cell_type": "markdown",
      "metadata": {
        "id": "13fXSwyQcGvd"
      },
      "source": [
        "b) Converting NumPy Array to Torch Tensor\n",
        "\n",
        "Note: see how changing the np array changed the Torch Tensor automatically\n",
        "\n"
      ]
    },
    {
      "cell_type": "code",
      "execution_count": null,
      "metadata": {
        "colab": {
          "base_uri": "https://localhost:8080/"
        },
        "id": "AFLuR6NBcGve",
        "outputId": "f7384dc1-7c7b-4f32-c858-04691bf062d7"
      },
      "outputs": [
        {
          "output_type": "stream",
          "name": "stdout",
          "text": [
            "[2. 2. 2. 2. 2.]\n",
            "tensor([2., 2., 2., 2., 2.], dtype=torch.float64)\n"
          ]
        }
      ],
      "source": [
        "import numpy as np\n",
        "a = np.ones(5)\n",
        "b = torch.from_numpy(a)\n",
        "np.add(a, 1, out=a)\n",
        "print(a)\n",
        "print(b)"
      ]
    },
    {
      "cell_type": "markdown",
      "metadata": {
        "id": "RFJIEWDPcGvk"
      },
      "source": [
        "All the Tensors on the CPU except a CharTensor support converting to\n",
        "NumPy and back.\n",
        "\n",
        "Section 3: CUDA Tensors\n",
        "------------\n",
        "\n",
        "Tensors can be moved onto any device using the ``.to`` method.\n",
        "\n"
      ]
    },
    {
      "cell_type": "code",
      "execution_count": null,
      "metadata": {
        "colab": {
          "base_uri": "https://localhost:8080/"
        },
        "id": "87UhfuZOcGvl",
        "outputId": "0a4db500-2896-48d8-e9d7-c531b0501692"
      },
      "outputs": [
        {
          "output_type": "stream",
          "name": "stdout",
          "text": [
            "tensor([[1.7038, 1.5289, 1.1912],\n",
            "        [1.9412, 1.0138, 1.8623],\n",
            "        [1.9674, 1.4602, 1.4017],\n",
            "        [1.2006, 1.5367, 1.5383],\n",
            "        [1.9503, 1.4044, 1.2570]], device='cuda:0')\n",
            "tensor([[1.7038, 1.5289, 1.1912],\n",
            "        [1.9412, 1.0138, 1.8623],\n",
            "        [1.9674, 1.4602, 1.4017],\n",
            "        [1.2006, 1.5367, 1.5383],\n",
            "        [1.9503, 1.4044, 1.2570]], dtype=torch.float64)\n"
          ]
        }
      ],
      "source": [
        "# let us run this cell only if CUDA is available\n",
        "# We will use ``torch.device`` objects to move tensors in and out of GPU\n",
        "# Devices available are 'cuda' and 'cpu'\n",
        "\n",
        "x = torch.rand(5,3)\n",
        "if torch.cuda.is_available():\n",
        "    device = torch.device(\"cuda\")          # a CUDA device object\n",
        "    y = torch.ones_like(x, device=device)  # directly create a tensor on GPU\n",
        "    x = x.to(device)                       # or just use strings ``.to(\"cuda\")``\n",
        "    z = x + y\n",
        "    print(z)\n",
        "    print(z.to(\"cpu\", torch.double))       # ``.to`` can also change dtype together!"
      ]
    },
    {
      "cell_type": "code",
      "execution_count": null,
      "metadata": {
        "id": "Oux9IruZDokZ"
      },
      "outputs": [],
      "source": []
    }
  ],
  "metadata": {
    "accelerator": "GPU",
    "colab": {
      "provenance": [],
      "include_colab_link": true
    },
    "kernelspec": {
      "display_name": "Python 3 (ipykernel)",
      "language": "python",
      "name": "python3"
    },
    "language_info": {
      "codemirror_mode": {
        "name": "ipython",
        "version": 3
      },
      "file_extension": ".py",
      "mimetype": "text/x-python",
      "name": "python",
      "nbconvert_exporter": "python",
      "pygments_lexer": "ipython3",
      "version": "3.9.7"
    }
  },
  "nbformat": 4,
  "nbformat_minor": 0
}